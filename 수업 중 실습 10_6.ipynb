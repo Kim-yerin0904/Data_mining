{
 "cells": [
  {
   "cell_type": "code",
   "execution_count": 2,
   "id": "bb278927",
   "metadata": {},
   "outputs": [],
   "source": [
    "import numpy as np\n",
    "import pandas as pd\n",
    "import random"
   ]
  },
  {
   "cell_type": "code",
   "execution_count": 3,
   "id": "e3ac8fd7",
   "metadata": {},
   "outputs": [],
   "source": [
    "data1=[]\n",
    "data2=[]\n",
    "data3=[]\n",
    "for i in range(100):\n",
    "    data1.append(random.randint(5,555))\n",
    "    data2.append(random.randint(5,555))\n",
    "    data3.append(random.randint(5,555))"
   ]
  },
  {
   "cell_type": "code",
   "execution_count": 4,
   "id": "1aca1e6c",
   "metadata": {},
   "outputs": [],
   "source": [
    "import matplotlib as mpl\n",
    "import matplotlib.pyplot as plt"
   ]
  },
  {
   "cell_type": "code",
   "execution_count": 5,
   "id": "c4ddc221",
   "metadata": {},
   "outputs": [],
   "source": [
    "value = pd.Series(data1)\n",
    "value_2 =pd.Series(data2)\n",
    "value_3=pd.Series(data3)"
   ]
  },
  {
   "cell_type": "code",
   "execution_count": 9,
   "id": "68081c43",
   "metadata": {},
   "outputs": [
    {
     "data": {
      "text/plain": [
       "<matplotlib.legend.Legend at 0x1351fc29ca0>"
      ]
     },
     "execution_count": 9,
     "metadata": {},
     "output_type": "execute_result"
    },
    {
     "data": {
      "image/png": "[encoded data removed]",
      "text/plain": [
       "<Figure size 432x288 with 1 Axes>"
      ]
     },
     "metadata": {
      "needs_background": "light"
     },
     "output_type": "display_data"
    }
   ],
   "source": [
    "plt.plot(\"data1\",value.max(),'kv',label = 'max')\n",
    "plt.plot(\"data1\",value.min(),'k^',label = 'min')\n",
    "plt.plot(\"data1\",value.mean(),'b+',label = 'mean')\n",
    "plt.plot(\"data1\",value.median(),'b*',label = 'median')\n",
    "plt.plot(\"data1\",value.mean()+value.std(),'gv',label = 'mean+value')\n",
    "plt.plot(\"data1\",value.mean()-value.std(),'g^',label = 'mean-value')\n",
    "plt.plot(\"data1\",value.quantile(0.75),'rv',label = '75%')\n",
    "plt.plot(\"data1\",value.quantile(0.25),'r^',label = '25%')\n",
    "plt.plot(\"data2\",value_2.max(),'kv')\n",
    "plt.plot(\"data2\",value_2.min(),'k^')\n",
    "plt.plot(\"data2\",value_2.mean(),'b+')\n",
    "plt.plot(\"data2\",value_2.median(),'b*')\n",
    "plt.plot(\"data2\",value_2.mean()+value_2.std(),'gv')\n",
    "plt.plot(\"data2\",value_2.mean()-value_2.std(),'g^')\n",
    "plt.plot(\"data2\",value_2.quantile(0.75),'rv')\n",
    "plt.plot(\"data2\",value_2.quantile(0.25),'r^')\n",
    "plt.plot(\"data3\",value_3.max(),'kv')\n",
    "plt.plot(\"data3\",value_3.min(),'k^')\n",
    "plt.plot(\"data3\",value_3.mean(),'b+')\n",
    "plt.plot(\"data3\",value_3.median(),'b*')\n",
    "plt.plot(\"data3\",value_3.mean()+value_3.std(),'gv')\n",
    "plt.plot(\"data3\",value_3.mean()-value_3.std(),'g^')\n",
    "plt.plot(\"data3\",value_3.quantile(0.75),'rv')\n",
    "plt.plot(\"data3\",value_3.quantile(0.25),'r^')\n",
    "plt.legend(loc=(1.0,1.0))"
   ]
  },
  {
   "cell_type": "code",
   "execution_count": null,
   "id": "70a3cfc5",
   "metadata": {},
   "outputs": [],
   "source": []
  }
 ],
 "metadata": {
  "kernelspec": {
   "display_name": "Python 3",
   "language": "python",
   "name": "python3"
  },
  "language_info": {
   "codemirror_mode": {
    "name": "ipython",
    "version": 3
   },
   "file_extension": ".py",
   "mimetype": "text/x-python",
   "name": "python",
   "nbconvert_exporter": "python",
   "pygments_lexer": "ipython3",
   "version": "3.8.8"
  }
 },
 "nbformat": 4,
 "nbformat_minor": 5
}
