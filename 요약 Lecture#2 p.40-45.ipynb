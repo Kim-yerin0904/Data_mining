{
 "cells": [
  {
   "cell_type": "markdown",
   "id": "e4312182",
   "metadata": {},
   "source": [
    "## op.reduce( )\n",
    "  add.reduce()\n",
    "  \n",
    "     배열에 있는 수,문자를 더한다\n",
    "  logical_and.reduce()\n",
    "  \n",
    "     배열에 있는 논리가 모두 참이면 True, 아니면 False\n",
    "  logical_or.reduce()\n",
    "  \n",
    "     배열에 있는 논리 중 하나라도 참이라면 True, 모두 거짓이면 False\n"
   ]
  },
  {
   "cell_type": "markdown",
   "id": "d4317d27",
   "metadata": {},
   "source": [
    "- 숫자"
   ]
  },
  {
   "cell_type": "code",
   "execution_count": 2,
   "id": "38a5cb2c",
   "metadata": {},
   "outputs": [],
   "source": [
    "import numpy as np"
   ]
  },
  {
   "cell_type": "code",
   "execution_count": 3,
   "id": "a3871449",
   "metadata": {},
   "outputs": [],
   "source": [
    "a = np.array([1,2,3,4])"
   ]
  },
  {
   "cell_type": "code",
   "execution_count": 4,
   "id": "e3d6d80a",
   "metadata": {},
   "outputs": [
    {
     "data": {
      "text/plain": [
       "10"
      ]
     },
     "execution_count": 4,
     "metadata": {},
     "output_type": "execute_result"
    }
   ],
   "source": [
    "np.add.reduce(a)"
   ]
  },
  {
   "cell_type": "markdown",
   "id": "dccea395",
   "metadata": {},
   "source": [
    "- 문자"
   ]
  },
  {
   "cell_type": "code",
   "execution_count": 5,
   "id": "2ff63e3b",
   "metadata": {},
   "outputs": [],
   "source": [
    "a = np.array(['ab','cd','ef'],dtype ='object')"
   ]
  },
  {
   "cell_type": "code",
   "execution_count": 6,
   "id": "c79275ea",
   "metadata": {},
   "outputs": [
    {
     "data": {
      "text/plain": [
       "'abcdef'"
      ]
     },
     "execution_count": 6,
     "metadata": {},
     "output_type": "execute_result"
    }
   ],
   "source": [
    "np.add.reduce(a)"
   ]
  },
  {
   "cell_type": "markdown",
   "id": "760981e6",
   "metadata": {},
   "source": [
    "- 논리"
   ]
  },
  {
   "cell_type": "code",
   "execution_count": 7,
   "id": "6987f634",
   "metadata": {},
   "outputs": [],
   "source": [
    "a=np.array([1,1,0,1])"
   ]
  },
  {
   "cell_type": "code",
   "execution_count": 8,
   "id": "65dace8a",
   "metadata": {},
   "outputs": [
    {
     "data": {
      "text/plain": [
       "False"
      ]
     },
     "execution_count": 8,
     "metadata": {},
     "output_type": "execute_result"
    }
   ],
   "source": [
    "np.logical_and.reduce(a)"
   ]
  },
  {
   "cell_type": "code",
   "execution_count": 9,
   "id": "13dfff35",
   "metadata": {},
   "outputs": [
    {
     "data": {
      "text/plain": [
       "True"
      ]
     },
     "execution_count": 9,
     "metadata": {},
     "output_type": "execute_result"
    }
   ],
   "source": [
    "np.logical_or.reduce(a)"
   ]
  },
  {
   "cell_type": "markdown",
   "id": "05e07e9c",
   "metadata": {},
   "source": [
    "- 각 행의 합"
   ]
  },
  {
   "cell_type": "code",
   "execution_count": 14,
   "id": "e20ce5c4",
   "metadata": {},
   "outputs": [],
   "source": [
    "a= np.arange(3) + np.arange(0,40,10).reshape(-1,1)"
   ]
  },
  {
   "cell_type": "code",
   "execution_count": 15,
   "id": "827b50f7",
   "metadata": {},
   "outputs": [
    {
     "data": {
      "text/plain": [
       "array([ 3, 33, 63, 93])"
      ]
     },
     "execution_count": 15,
     "metadata": {},
     "output_type": "execute_result"
    }
   ],
   "source": [
    "np.add.reduce(a,1)"
   ]
  },
  {
   "cell_type": "markdown",
   "id": "aa09061c",
   "metadata": {},
   "source": [
    "- 각 열의 합(이게 이차원 배열에서의 add.reduce() 기본값)"
   ]
  },
  {
   "cell_type": "code",
   "execution_count": 18,
   "id": "a20c7130",
   "metadata": {},
   "outputs": [
    {
     "data": {
      "text/plain": [
       "array([60, 64, 68])"
      ]
     },
     "execution_count": 18,
     "metadata": {},
     "output_type": "execute_result"
    }
   ],
   "source": [
    "np.add.reduce(a)"
   ]
  },
  {
   "cell_type": "markdown",
   "id": "58d3e456",
   "metadata": {},
   "source": [
    "## op.accumulate ()\n",
    " add.accumulate()\n",
    "     \n",
    "     배열의 각각의 요소에다가 add.reduce()를 쓴 것\n",
    " logical_and.accumulate()\n",
    " \n",
    "     배열의 각각의 요소에다가 logical_and.reduce()를 쓴것\n",
    "    \n",
    " logical_or.accumulate()\n",
    " \n",
    "     배열의 각각의 요소에다가 logical_or.reduce()를 쓴 것"
   ]
  },
  {
   "cell_type": "markdown",
   "id": "aea5397d",
   "metadata": {},
   "source": [
    "- 숫자"
   ]
  },
  {
   "cell_type": "code",
   "execution_count": 19,
   "id": "9c6b19ed",
   "metadata": {},
   "outputs": [],
   "source": [
    "a = np.array([1,2,3,4])"
   ]
  },
  {
   "cell_type": "code",
   "execution_count": 20,
   "id": "e5340a27",
   "metadata": {},
   "outputs": [
    {
     "data": {
      "text/plain": [
       "array([ 1,  3,  6, 10], dtype=int32)"
      ]
     },
     "execution_count": 20,
     "metadata": {},
     "output_type": "execute_result"
    }
   ],
   "source": [
    "np.add.accumulate(a)"
   ]
  },
  {
   "cell_type": "markdown",
   "id": "73296982",
   "metadata": {},
   "source": [
    "- 문자"
   ]
  },
  {
   "cell_type": "code",
   "execution_count": 21,
   "id": "c00edba6",
   "metadata": {},
   "outputs": [],
   "source": [
    "a = np.array(['ab','cd','ef'],dtype='object')"
   ]
  },
  {
   "cell_type": "code",
   "execution_count": 22,
   "id": "189838b1",
   "metadata": {},
   "outputs": [
    {
     "data": {
      "text/plain": [
       "array(['ab', 'abcd', 'abcdef'], dtype=object)"
      ]
     },
     "execution_count": 22,
     "metadata": {},
     "output_type": "execute_result"
    }
   ],
   "source": [
    "np.add.accumulate(a)"
   ]
  },
  {
   "cell_type": "markdown",
   "id": "f1c61740",
   "metadata": {},
   "source": [
    "- 논리"
   ]
  },
  {
   "cell_type": "code",
   "execution_count": 23,
   "id": "b633090a",
   "metadata": {},
   "outputs": [],
   "source": [
    "a = np.array([1,1,0])"
   ]
  },
  {
   "cell_type": "code",
   "execution_count": 24,
   "id": "6055576d",
   "metadata": {},
   "outputs": [
    {
     "data": {
      "text/plain": [
       "array([ True,  True, False])"
      ]
     },
     "execution_count": 24,
     "metadata": {},
     "output_type": "execute_result"
    }
   ],
   "source": [
    "np.logical_and.accumulate(a)"
   ]
  },
  {
   "cell_type": "code",
   "execution_count": 25,
   "id": "d46545ba",
   "metadata": {},
   "outputs": [
    {
     "data": {
      "text/plain": [
       "array([ True,  True,  True])"
      ]
     },
     "execution_count": 25,
     "metadata": {},
     "output_type": "execute_result"
    }
   ],
   "source": [
    "np.logical_or.accumulate(a)"
   ]
  },
  {
   "cell_type": "markdown",
   "id": "cc860f2e",
   "metadata": {},
   "source": [
    "## op.reduceat()\n",
    " add.reduceat(a, indices)\n",
    "     \n",
    "     a라는 배열의 indices 부분 add.reduce()\n",
    "     그리고 indices 다음 부터 끝까지 add.reduce()"
   ]
  },
  {
   "cell_type": "code",
   "execution_count": 34,
   "id": "c22c3452",
   "metadata": {},
   "outputs": [],
   "source": [
    "a = np.array([0,10,20,30,40,50])"
   ]
  },
  {
   "cell_type": "code",
   "execution_count": 35,
   "id": "6ca92f0b",
   "metadata": {},
   "outputs": [],
   "source": [
    "indices = np.array([2,4])"
   ]
  },
  {
   "cell_type": "code",
   "execution_count": 36,
   "id": "df1e0714",
   "metadata": {},
   "outputs": [
    {
     "data": {
      "text/plain": [
       "array([50, 90], dtype=int32)"
      ]
     },
     "execution_count": 36,
     "metadata": {},
     "output_type": "execute_result"
    }
   ],
   "source": [
    "np.add.reduceat(a,indices)"
   ]
  },
  {
   "cell_type": "markdown",
   "id": "4be9da48",
   "metadata": {},
   "source": [
    "## op.outer()\n",
    "add.outer(a,b)\n",
    "    \n",
    "    행렬 덧셈 a+b이다\n",
    "    만약 b+a라면 계산이 달라짐"
   ]
  },
  {
   "cell_type": "code",
   "execution_count": 37,
   "id": "a27130ca",
   "metadata": {},
   "outputs": [],
   "source": [
    "a =np.array([1,2,3,4])\n",
    "b = np.array([9,8,7])"
   ]
  },
  {
   "cell_type": "code",
   "execution_count": 39,
   "id": "ace5fc9b",
   "metadata": {},
   "outputs": [
    {
     "data": {
      "text/plain": [
       "array([[10,  9,  8],\n",
       "       [11, 10,  9],\n",
       "       [12, 11, 10],\n",
       "       [13, 12, 11]])"
      ]
     },
     "execution_count": 39,
     "metadata": {},
     "output_type": "execute_result"
    }
   ],
   "source": [
    "np.add.outer(a,b)"
   ]
  },
  {
   "cell_type": "code",
   "execution_count": 40,
   "id": "acfa1648",
   "metadata": {},
   "outputs": [
    {
     "data": {
      "text/plain": [
       "array([[10, 11, 12, 13],\n",
       "       [ 9, 10, 11, 12],\n",
       "       [ 8,  9, 10, 11]])"
      ]
     },
     "execution_count": 40,
     "metadata": {},
     "output_type": "execute_result"
    }
   ],
   "source": [
    "np.add.outer(b,a)"
   ]
  },
  {
   "cell_type": "code",
   "execution_count": null,
   "id": "9e471ddf",
   "metadata": {},
   "outputs": [],
   "source": []
  }
 ],
 "metadata": {
  "kernelspec": {
   "display_name": "Python 3",
   "language": "python",
   "name": "python3"
  },
  "language_info": {
   "codemirror_mode": {
    "name": "ipython",
    "version": 3
   },
   "file_extension": ".py",
   "mimetype": "text/x-python",
   "name": "python",
   "nbconvert_exporter": "python",
   "pygments_lexer": "ipython3",
   "version": "3.8.8"
  }
 },
 "nbformat": 4,
 "nbformat_minor": 5
}
