{
 "cells": [
  {
   "cell_type": "markdown",
   "id": "3e3a9754",
   "metadata": {},
   "source": [
    "## 공분산 cov()\n",
    "\n",
    "- 두 변수가 함께 변화하는 정도를 나타내는 지표"
   ]
  },
  {
   "cell_type": "code",
   "execution_count": 2,
   "id": "3dfcbe4f",
   "metadata": {},
   "outputs": [],
   "source": [
    "x = [8,3,6,6,8,7,3,2,5,5]\n",
    "y = [3,5,6,86,5,8,4,4,2,2]"
   ]
  },
  {
   "cell_type": "code",
   "execution_count": 3,
   "id": "f5440289",
   "metadata": {
    "scrolled": true
   },
   "outputs": [
    {
     "data": {
      "text/plain": [
       "[<matplotlib.lines.Line2D at 0x2b55d647c70>]"
      ]
     },
     "execution_count": 3,
     "metadata": {},
     "output_type": "execute_result"
    },
    {
     "data": {
      "image/png": "[encoded data removed]",
      "text/plain": [
       "<Figure size 432x288 with 1 Axes>"
      ]
     },
     "metadata": {
      "needs_background": "light"
     },
     "output_type": "display_data"
    }
   ],
   "source": [
    "import matplotlib.pyplot as plt\n",
    "plt.plot(x,y,'o')"
   ]
  },
  {
   "cell_type": "code",
   "execution_count": 4,
   "id": "2c46aca9",
   "metadata": {},
   "outputs": [
    {
     "data": {
      "text/plain": [
       "array([[  4.45555556,   7.16666667],\n",
       "       [  7.16666667, 670.27777778]])"
      ]
     },
     "execution_count": 4,
     "metadata": {},
     "output_type": "execute_result"
    }
   ],
   "source": [
    "import numpy as np\n",
    "np.cov(x,y) #x의 분산, y의 분산, x와 y의 공분산 계산"
   ]
  },
  {
   "cell_type": "code",
   "execution_count": 5,
   "id": "d48b6d10",
   "metadata": {},
   "outputs": [
    {
     "data": {
      "text/plain": [
       "7.166666666666666"
      ]
     },
     "execution_count": 5,
     "metadata": {},
     "output_type": "execute_result"
    }
   ],
   "source": [
    "np.cov(x,y)[0,1] #공분산만 보기"
   ]
  },
  {
   "cell_type": "markdown",
   "id": "f604aa3c",
   "metadata": {},
   "source": [
    "#### 공분산 해석\n",
    "\n",
    "부호 : \n",
    "> - 공분산이 +인 경우 : 두 변수가 같은 방향으로 변화\n",
    "> - 공분산이 -인 경우 : 두 변수가 반대 방향으로 변화\n",
    "\n",
    "크기 :\n",
    "> - 공분산 = 0 이면 두 변수가 독립, 즉, 한 변수의 변화로 다른 변수의 변화를 예측하지 못함.\n",
    "> - 공분산의 크기가 클수록 두 변수는 함께 많이 변화\n",
    ">> * 단위에 따라 공분산의 크기가 달라지므로 절대적 크기로 판단X\n",
    ">> * 공분산을 -1~1 범위로 표준화 한것 = 상관계수\n",
    "\n",
    "**주의**: 공분산은 선형적인 관계를 측정하므로 두 변수가 비선형적으로 함께 변하면 측정 어려움"
   ]
  },
  {
   "cell_type": "markdown",
   "id": "7acdcaa5",
   "metadata": {},
   "source": [
    "## 상관계수 corr()\n",
    "\n",
    "- 두 변수가 함께 변하는 정도를 -1~1 범위의 수로 나타낸 것"
   ]
  },
  {
   "cell_type": "code",
   "execution_count": 7,
   "id": "6e33d3df",
   "metadata": {},
   "outputs": [
    {
     "data": {
      "text/plain": [
       "array([[1.        , 0.13114111],\n",
       "       [0.13114111, 1.        ]])"
      ]
     },
     "execution_count": 7,
     "metadata": {},
     "output_type": "execute_result"
    }
   ],
   "source": [
    "import numpy as np\n",
    "np.corrcoef(x,y)"
   ]
  },
  {
   "cell_type": "code",
   "execution_count": 8,
   "id": "0626cb70",
   "metadata": {},
   "outputs": [
    {
     "data": {
      "text/plain": [
       "0.13114111233977555"
      ]
     },
     "execution_count": 8,
     "metadata": {},
     "output_type": "execute_result"
    }
   ],
   "source": [
    "np.corrcoef(x,y)[0,1] #두 변수의 상관계수만 확인"
   ]
  },
  {
   "cell_type": "markdown",
   "id": "33455873",
   "metadata": {},
   "source": [
    "#### 상관계수의 해석\n",
    "\n",
    "- 공분수와 비슷 부호,주의,크기 두번째까지 똑같음\n",
    "\n",
    "크기 : \n",
    "> pearson 상관계수를 제곱하면 분산(=변화량)에서 공유하는 비율\n",
    ">> * 예를 들어 x와 y의 상관계수가 0.4이면 그 제곱은 0.16(=16%)\n",
    ">> * x의 분산 중 16%를 y와 공유 또는 x의 분산 중 16%가 y로 설명됨"
   ]
  },
  {
   "cell_type": "code",
   "execution_count": null,
   "id": "c389da30",
   "metadata": {},
   "outputs": [],
   "source": []
  }
 ],
 "metadata": {
  "kernelspec": {
   "display_name": "Python 3",
   "language": "python",
   "name": "python3"
  },
  "language_info": {
   "codemirror_mode": {
    "name": "ipython",
    "version": 3
   },
   "file_extension": ".py",
   "mimetype": "text/x-python",
   "name": "python",
   "nbconvert_exporter": "python",
   "pygments_lexer": "ipython3",
   "version": "3.8.8"
  }
 },
 "nbformat": 4,
 "nbformat_minor": 5
}
